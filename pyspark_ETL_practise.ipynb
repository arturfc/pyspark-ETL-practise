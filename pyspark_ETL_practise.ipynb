{
  "nbformat": 4,
  "nbformat_minor": 0,
  "metadata": {
    "colab": {
      "name": "pyspark_ETL_practise.ipynb",
      "provenance": []
    },
    "kernelspec": {
      "name": "python3",
      "display_name": "Python 3"
    },
    "language_info": {
      "name": "python"
    }
  },
  "cells": [
    {
      "cell_type": "code",
      "execution_count": 1,
      "metadata": {
        "id": "0DWy5g3-xul3"
      },
      "outputs": [],
      "source": [
        "!apt-get install openjdk-8-jdk-headless -qq > /dev/null"
      ]
    },
    {
      "cell_type": "code",
      "source": [
        "!wget -q https://downloads.apache.org/spark/spark-3.1.2/spark-3.1.2-bin-hadoop2.7.tgz"
      ],
      "metadata": {
        "id": "cnjai9rxxvO7"
      },
      "execution_count": 2,
      "outputs": []
    },
    {
      "cell_type": "code",
      "source": [
        "!tar xf /content/spark-3.1.2-bin-hadoop2.7.tgz"
      ],
      "metadata": {
        "id": "BvV9NWkaxxmS"
      },
      "execution_count": 3,
      "outputs": []
    },
    {
      "cell_type": "code",
      "source": [
        "#variáveis do ambiente\n",
        "import os\n",
        "os.environ[\"JAVA_HOME\"] = \"/usr/lib/jvm/java-8-openjdk-amd64\"\n",
        "os.environ[\"SPARK_HOME\"] =  \"/content/spark-3.1.2-bin-hadoop2.7\""
      ],
      "metadata": {
        "id": "JMakxyaHxy0o"
      },
      "execution_count": 4,
      "outputs": []
    },
    {
      "cell_type": "code",
      "source": [
        "!pip install -q findspark"
      ],
      "metadata": {
        "id": "VgCdbTCyyHtD"
      },
      "execution_count": 5,
      "outputs": []
    },
    {
      "cell_type": "code",
      "source": [
        "import findspark\n",
        "findspark.init(os.environ[\"SPARK_HOME\"])"
      ],
      "metadata": {
        "id": "oq9aT0JxyIHI"
      },
      "execution_count": 6,
      "outputs": []
    },
    {
      "cell_type": "code",
      "source": [
        "#criando spark session\n",
        "from pyspark.sql import SparkSession\n",
        "spark = (SparkSession.builder\n",
        "         .master('local')\n",
        "         .appName('pyspark_ETL_practise')\n",
        "         .getOrCreate()\n",
        ")"
      ],
      "metadata": {
        "id": "y8jr-pTayM_L"
      },
      "execution_count": 7,
      "outputs": []
    },
    {
      "cell_type": "code",
      "source": [
        "from google.colab import files\n",
        "arquivo = files.upload()"
      ],
      "metadata": {
        "colab": {
          "resources": {
            "http://localhost:8080/nbextensions/google.colab/files.js": {
              "data": "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",
              "ok": true,
              "headers": [
                [
                  "content-type",
                  "application/javascript"
                ]
              ],
              "status": 200,
              "status_text": ""
            }
          },
          "base_uri": "https://localhost:8080/",
          "height": 107
        },
        "id": "X1hGfRo0yQiz",
        "outputId": "c98f8fd1-e6c2-4800-9b76-6804ddc0b7e8"
      },
      "execution_count": 8,
      "outputs": [
        {
          "output_type": "display_data",
          "data": {
            "text/plain": [
              "<IPython.core.display.HTML object>"
            ],
            "text/html": [
              "\n",
              "     <input type=\"file\" id=\"files-0317cc0d-3a15-456a-959f-aa6443a27d2e\" name=\"files[]\" multiple disabled\n",
              "        style=\"border:none\" />\n",
              "     <output id=\"result-0317cc0d-3a15-456a-959f-aa6443a27d2e\">\n",
              "      Upload widget is only available when the cell has been executed in the\n",
              "      current browser session. Please rerun this cell to enable.\n",
              "      </output>\n",
              "      <script src=\"/nbextensions/google.colab/files.js\"></script> "
            ]
          },
          "metadata": {}
        },
        {
          "output_type": "stream",
          "name": "stdout",
          "text": [
            "Saving backtest_results.csv to backtest_results (1).csv\n",
            "Saving variables_filtered.csv to variables_filtered (1).csv\n"
          ]
        }
      ]
    },
    {
      "cell_type": "code",
      "source": [
        "#Criando dataframe\n",
        "df = spark.read.csv('backtest_results.csv', header=True, inferSchema=True)"
      ],
      "metadata": {
        "id": "2wOIb_1J1ehD"
      },
      "execution_count": 9,
      "outputs": []
    },
    {
      "cell_type": "code",
      "source": [
        "df.printSchema()\n",
        "type(df)"
      ],
      "metadata": {
        "colab": {
          "base_uri": "https://localhost:8080/"
        },
        "id": "CKFle-aRP2eB",
        "outputId": "a58f4da1-86e2-4b16-bd5b-e2d43badd25d"
      },
      "execution_count": 10,
      "outputs": [
        {
          "output_type": "stream",
          "name": "stdout",
          "text": [
            "root\n",
            " |-- _c0: integer (nullable = true)\n",
            " |-- Saldo Líquido: double (nullable = true)\n",
            " |-- Número de entradas: double (nullable = true)\n",
            " |-- Taxa de acerto: double (nullable = true)\n",
            " |-- Payoff: double (nullable = true)\n",
            " |-- Média de lucro por operação: double (nullable = true)\n",
            " |-- Desvio padrão: double (nullable = true)\n",
            "\n"
          ]
        },
        {
          "output_type": "execute_result",
          "data": {
            "text/plain": [
              "pyspark.sql.dataframe.DataFrame"
            ]
          },
          "metadata": {},
          "execution_count": 10
        }
      ]
    },
    {
      "cell_type": "code",
      "source": [
        "#Renomeando as colunas\n",
        "df = (df.withColumnRenamed(\"_c0\",\"index\")\n",
        "      .withColumnRenamed(\"Saldo Líquido\",\"saldo_liquido\")\n",
        "      .withColumnRenamed(\"Número de entradas\",\"numero_de_entradas\")\n",
        "      .withColumnRenamed(\"Taxa de acerto\",\"taxa_de_acerto\")\n",
        "      .withColumnRenamed(\"Média de lucro por operação\",\"media_lucro_operacao\")\n",
        "      .withColumnRenamed(\"Desvio padrão\",\"desvio_padrao\")\n",
        ")\n",
        "df.printSchema()"
      ],
      "metadata": {
        "colab": {
          "base_uri": "https://localhost:8080/"
        },
        "id": "Kd39lx4eUN6-",
        "outputId": "78a5c4df-b90c-4130-e254-73ed9cbb88b5"
      },
      "execution_count": 11,
      "outputs": [
        {
          "output_type": "stream",
          "name": "stdout",
          "text": [
            "root\n",
            " |-- index: integer (nullable = true)\n",
            " |-- saldo_liquido: double (nullable = true)\n",
            " |-- numero_de_entradas: double (nullable = true)\n",
            " |-- taxa_de_acerto: double (nullable = true)\n",
            " |-- Payoff: double (nullable = true)\n",
            " |-- media_lucro_operacao: double (nullable = true)\n",
            " |-- desvio_padrao: double (nullable = true)\n",
            "\n"
          ]
        }
      ]
    },
    {
      "cell_type": "code",
      "source": [
        "df.show()"
      ],
      "metadata": {
        "colab": {
          "base_uri": "https://localhost:8080/"
        },
        "id": "iNi0uHFfV4-I",
        "outputId": "eef3aa5d-fe3a-4dcc-faf0-6745271c2e26"
      },
      "execution_count": 12,
      "outputs": [
        {
          "output_type": "stream",
          "name": "stdout",
          "text": [
            "+-----+-------------+------------------+--------------+------+--------------------+-------------+\n",
            "|index|saldo_liquido|numero_de_entradas|taxa_de_acerto|Payoff|media_lucro_operacao|desvio_padrao|\n",
            "+-----+-------------+------------------+--------------+------+--------------------+-------------+\n",
            "|    0|       834.08|             162.0|          0.59|  1.32|                5.15|        37.56|\n",
            "|    1|      1654.08|             162.0|          0.68|  1.76|               10.21|        40.82|\n",
            "|    2|      1499.08|             162.0|          0.68|  1.65|                9.25|         44.6|\n",
            "|    3|       739.08|             162.0|          0.48|  1.23|                4.56|        50.62|\n",
            "|    4|      1469.08|             162.0|          0.56|  1.51|                9.07|        55.56|\n",
            "|    5|      1319.08|             162.0|          0.56|  1.43|                8.14|        58.38|\n",
            "|    6|       264.08|             162.0|          0.47|  1.08|                1.63|        48.74|\n",
            "|    7|       819.08|             162.0|          0.55|  1.27|                5.06|        53.57|\n",
            "|    8|       669.08|             162.0|          0.55|  1.21|                4.13|        56.43|\n",
            "|    9|       754.08|             162.0|          0.58|  1.29|                4.65|        37.66|\n",
            "|   10|      1509.08|             162.0|          0.67|  1.66|                9.32|        41.72|\n",
            "|   11|      1494.08|             162.0|          0.68|  1.64|                9.22|         44.6|\n",
            "|   12|       624.08|             162.0|          0.47|   1.2|                3.85|        50.55|\n",
            "|   13|      1174.08|             162.0|          0.55|  1.39|                7.25|         55.9|\n",
            "|   14|      1124.08|             162.0|          0.55|  1.36|                6.94|        58.05|\n",
            "|   15|       114.08|             162.0|          0.46|  1.04|                 0.7|        48.01|\n",
            "|   16|       519.08|             162.0|          0.54|  1.17|                 3.2|        53.51|\n",
            "|   17|       469.08|             162.0|          0.54|  1.15|                 2.9|        55.73|\n",
            "|   18|       834.08|             162.0|          0.59|  1.32|                5.15|        37.56|\n",
            "|   19|      1654.08|             162.0|          0.68|  1.76|               10.21|        40.82|\n",
            "+-----+-------------+------------------+--------------+------+--------------------+-------------+\n",
            "only showing top 20 rows\n",
            "\n"
          ]
        }
      ]
    },
    {
      "cell_type": "code",
      "source": [
        "#Exemplo do uso select\n",
        "df_results = df.select('saldo_liquido', 'taxa_de_acerto', 'media_lucro_operacao', 'numero_de_entradas')\n",
        "df_results.show(5)"
      ],
      "metadata": {
        "colab": {
          "base_uri": "https://localhost:8080/"
        },
        "id": "AUZ7mBSsX0b4",
        "outputId": "bed0dbf6-1993-490d-dff9-d8382cd89a2d"
      },
      "execution_count": 13,
      "outputs": [
        {
          "output_type": "stream",
          "name": "stdout",
          "text": [
            "+-------------+--------------+--------------------+------------------+\n",
            "|saldo_liquido|taxa_de_acerto|media_lucro_operacao|numero_de_entradas|\n",
            "+-------------+--------------+--------------------+------------------+\n",
            "|       834.08|          0.59|                5.15|             162.0|\n",
            "|      1654.08|          0.68|               10.21|             162.0|\n",
            "|      1499.08|          0.68|                9.25|             162.0|\n",
            "|       739.08|          0.48|                4.56|             162.0|\n",
            "|      1469.08|          0.56|                9.07|             162.0|\n",
            "+-------------+--------------+--------------------+------------------+\n",
            "only showing top 5 rows\n",
            "\n"
          ]
        }
      ]
    },
    {
      "cell_type": "code",
      "source": [
        "#Mudando o tipo da coluna 'Número de entradas' de 'double' para 'int'\n",
        "df_results = df_results.withColumn('numero_entradas', df_results['numero_de_entradas'].cast('int')).drop('numero_de_entradas')\n",
        "df_results.show(5)\n"
      ],
      "metadata": {
        "colab": {
          "base_uri": "https://localhost:8080/"
        },
        "id": "TmiC4aMsZOnt",
        "outputId": "3ff8f71a-09b7-4a92-b351-6d2766fbada6"
      },
      "execution_count": 14,
      "outputs": [
        {
          "output_type": "stream",
          "name": "stdout",
          "text": [
            "+-------------+--------------+--------------------+---------------+\n",
            "|saldo_liquido|taxa_de_acerto|media_lucro_operacao|numero_entradas|\n",
            "+-------------+--------------+--------------------+---------------+\n",
            "|       834.08|          0.59|                5.15|            162|\n",
            "|      1654.08|          0.68|               10.21|            162|\n",
            "|      1499.08|          0.68|                9.25|            162|\n",
            "|       739.08|          0.48|                4.56|            162|\n",
            "|      1469.08|          0.56|                9.07|            162|\n",
            "+-------------+--------------+--------------------+---------------+\n",
            "only showing top 5 rows\n",
            "\n"
          ]
        }
      ]
    },
    {
      "cell_type": "code",
      "source": [
        "#filtrando número de entradas abaixo de 150 e saldo líquido superior a 1000\n",
        "df_results.filter((df_results.numero_entradas < 150) & (df_results.saldo_liquido > 1000)).show()"
      ],
      "metadata": {
        "colab": {
          "base_uri": "https://localhost:8080/"
        },
        "id": "hVw1F4sFb0DZ",
        "outputId": "8f48969f-17d5-4140-bba9-4202888157bb"
      },
      "execution_count": 15,
      "outputs": [
        {
          "output_type": "stream",
          "name": "stdout",
          "text": [
            "+-------------+--------------+--------------------+---------------+\n",
            "|saldo_liquido|taxa_de_acerto|media_lucro_operacao|numero_entradas|\n",
            "+-------------+--------------+--------------------+---------------+\n",
            "|       1584.2|          0.73|               12.19|            130|\n",
            "|       1454.2|          0.73|               11.19|            130|\n",
            "|      1411.54|           0.7|               10.78|            131|\n",
            "|      1291.54|           0.7|                9.86|            131|\n",
            "|      1233.88|          0.68|                9.35|            132|\n",
            "|      1113.88|          0.68|                8.44|            132|\n",
            "|       1909.2|          0.78|               14.69|            130|\n",
            "|       1864.2|          0.79|               14.34|            130|\n",
            "|       1379.2|          0.55|               10.61|            130|\n",
            "|       1434.2|          0.56|               11.03|            130|\n",
            "|      1666.54|          0.76|               12.72|            131|\n",
            "|      1686.54|          0.77|               12.87|            131|\n",
            "|      1266.54|          0.56|                9.67|            131|\n",
            "|      1386.54|          0.56|               10.58|            131|\n",
            "|      1473.88|          0.74|               11.17|            132|\n",
            "|      1568.88|          0.75|               11.89|            132|\n",
            "|      1113.88|          0.55|                8.44|            132|\n",
            "|      1258.88|          0.56|                9.54|            132|\n",
            "|       1939.2|          0.79|               14.92|            130|\n",
            "|       1954.2|           0.8|               15.03|            130|\n",
            "+-------------+--------------+--------------------+---------------+\n",
            "only showing top 20 rows\n",
            "\n"
          ]
        }
      ]
    },
    {
      "cell_type": "code",
      "source": [
        "#Usando função de agregação para encontrar número mínimo de entradas e o valor máximo de saldo líquido\n",
        "from pyspark.sql.functions import min, max, count, col, asc, desc\n",
        "\n",
        "df_results.agg(min('numero_entradas').alias('min_numero_entradas')).show()\n",
        "\n",
        "print(\"Itens com número de entradas igual a 12\")\n",
        "df_results.filter(df_results.numero_entradas == 12).show(5)\n",
        "\n",
        "print(\"count por número de entradas\")\n",
        "df_results.groupBy('numero_entradas').count().show(5)"
      ],
      "metadata": {
        "colab": {
          "base_uri": "https://localhost:8080/"
        },
        "id": "wrOi2xvJgqy7",
        "outputId": "a1c9886a-19a3-4e36-ee4b-4d5384273540"
      },
      "execution_count": 16,
      "outputs": [
        {
          "output_type": "stream",
          "name": "stdout",
          "text": [
            "+-------------------+\n",
            "|min_numero_entradas|\n",
            "+-------------------+\n",
            "|                 12|\n",
            "+-------------------+\n",
            "\n",
            "Itens com número de entradas igual a 12\n",
            "+-------------+--------------+--------------------+---------------+\n",
            "|saldo_liquido|taxa_de_acerto|media_lucro_operacao|numero_entradas|\n",
            "+-------------+--------------+--------------------+---------------+\n",
            "|      -246.92|          0.25|              -20.58|             12|\n",
            "|      -601.92|          0.33|              -50.16|             12|\n",
            "|      -936.92|          0.33|              -78.08|             12|\n",
            "|      -166.92|          0.25|              -13.91|             12|\n",
            "|      -521.92|          0.33|              -43.49|             12|\n",
            "+-------------+--------------+--------------------+---------------+\n",
            "only showing top 5 rows\n",
            "\n",
            "count por número de entradas\n",
            "+---------------+-----+\n",
            "|numero_entradas|count|\n",
            "+---------------+-----+\n",
            "|            137|   54|\n",
            "|            126|   54|\n",
            "|             28|   54|\n",
            "|            192|  243|\n",
            "|             12|   27|\n",
            "+---------------+-----+\n",
            "only showing top 5 rows\n",
            "\n"
          ]
        }
      ]
    },
    {
      "cell_type": "code",
      "source": [
        "#Usando função de agregação para encontrar valor máximo de saldo líquido\n",
        "df_results.agg(max('saldo_liquido').alias('max_saldo_liquido')).show()\n",
        "\n",
        "print(\"Maior saldo líquido:\")\n",
        "df_results.filter(df_results.saldo_liquido ==  2614.3).show()\n",
        "\n",
        "print(\"Top 5 saldo líquido:\")\n",
        "df_results.orderBy(col('saldo_liquido').desc()).show(5)"
      ],
      "metadata": {
        "colab": {
          "base_uri": "https://localhost:8080/"
        },
        "id": "25X9aa4HiDYx",
        "outputId": "1a1cc526-5abc-4b93-d81e-41ec964aa7ef"
      },
      "execution_count": 17,
      "outputs": [
        {
          "output_type": "stream",
          "name": "stdout",
          "text": [
            "+-----------------+\n",
            "|max_saldo_liquido|\n",
            "+-----------------+\n",
            "|           2614.3|\n",
            "+-----------------+\n",
            "\n",
            "Maior saldo líquido:\n",
            "+-------------+--------------+--------------------+---------------+\n",
            "|saldo_liquido|taxa_de_acerto|media_lucro_operacao|numero_entradas|\n",
            "+-------------+--------------+--------------------+---------------+\n",
            "|       2614.3|          0.62|               18.03|            145|\n",
            "+-------------+--------------+--------------------+---------------+\n",
            "\n",
            "Top 5 saldo líquido:\n",
            "+-------------+--------------+--------------------+---------------+\n",
            "|saldo_liquido|taxa_de_acerto|media_lucro_operacao|numero_entradas|\n",
            "+-------------+--------------+--------------------+---------------+\n",
            "|       2614.3|          0.62|               18.03|            145|\n",
            "|      2495.58|          0.61|               18.22|            137|\n",
            "|      2475.58|          0.61|               18.07|            137|\n",
            "|      2466.96|          0.62|               17.13|            144|\n",
            "|      2440.26|          0.61|               17.56|            139|\n",
            "+-------------+--------------+--------------------+---------------+\n",
            "only showing top 5 rows\n",
            "\n"
          ]
        }
      ]
    },
    {
      "cell_type": "code",
      "source": [
        "df_results.createOrReplaceTempView('results')\n",
        "spark.sql('SELECT saldo_liquido FROM results ORDER BY saldo_liquido desc').show(5)"
      ],
      "metadata": {
        "colab": {
          "base_uri": "https://localhost:8080/"
        },
        "id": "utFknd2AtTm2",
        "outputId": "053eea63-1282-4d4a-8ef7-be420a7919e5"
      },
      "execution_count": 18,
      "outputs": [
        {
          "output_type": "stream",
          "name": "stdout",
          "text": [
            "+-------------+\n",
            "|saldo_liquido|\n",
            "+-------------+\n",
            "|       2614.3|\n",
            "|      2495.58|\n",
            "|      2475.58|\n",
            "|      2466.96|\n",
            "|      2440.26|\n",
            "+-------------+\n",
            "only showing top 5 rows\n",
            "\n"
          ]
        }
      ]
    },
    {
      "cell_type": "code",
      "source": [
        "df_variables_filtered = spark.read.csv('variables_filtered.csv', header=True, inferSchema=True)\n",
        "df_variables_filtered.printSchema()"
      ],
      "metadata": {
        "colab": {
          "base_uri": "https://localhost:8080/"
        },
        "id": "J2HOFSVyw2cS",
        "outputId": "6e4a7820-ab79-40ad-d42e-5c15bf6a2b70"
      },
      "execution_count": 19,
      "outputs": [
        {
          "output_type": "stream",
          "name": "stdout",
          "text": [
            "root\n",
            " |-- _c0: integer (nullable = true)\n",
            " |-- df_index: integer (nullable = true)\n",
            " |-- stop_gain_distance: integer (nullable = true)\n",
            " |-- stop_loss_distance: integer (nullable = true)\n",
            " |-- RSI_enable: integer (nullable = true)\n",
            " |-- RSI_period: integer (nullable = true)\n",
            " |-- RSI_value: integer (nullable = true)\n",
            " |-- operation_time: integer (nullable = true)\n",
            " |-- n_bars_validation: integer (nullable = true)\n",
            " |-- extra_range_entry: integer (nullable = true)\n",
            "\n"
          ]
        }
      ]
    },
    {
      "cell_type": "code",
      "source": [
        "df_variables_filtered = df_variables_filtered.drop('_c0')\n",
        "df_variables_filtered.show(5)"
      ],
      "metadata": {
        "colab": {
          "base_uri": "https://localhost:8080/"
        },
        "id": "8070iC0_xu-k",
        "outputId": "e30ce28c-06c8-49b4-f225-0aa381181a54"
      },
      "execution_count": 20,
      "outputs": [
        {
          "output_type": "stream",
          "name": "stdout",
          "text": [
            "+--------+------------------+------------------+----------+----------+---------+--------------+-----------------+-----------------+\n",
            "|df_index|stop_gain_distance|stop_loss_distance|RSI_enable|RSI_period|RSI_value|operation_time|n_bars_validation|extra_range_entry|\n",
            "+--------+------------------+------------------+----------+----------+---------+--------------+-----------------+-----------------+\n",
            "|       0|                 4|                 4|         1|         9|       30|            10|                5|                0|\n",
            "|       1|                 4|                10|         1|         9|       30|            10|                5|                0|\n",
            "|       2|                 4|                16|         1|         9|       30|            10|                5|                0|\n",
            "|       3|                10|                 4|         1|         9|       30|            10|                5|                0|\n",
            "|       4|                10|                10|         1|         9|       30|            10|                5|                0|\n",
            "+--------+------------------+------------------+----------+----------+---------+--------------+-----------------+-----------------+\n",
            "only showing top 5 rows\n",
            "\n"
          ]
        }
      ]
    },
    {
      "cell_type": "code",
      "source": [
        "#Inner Join para selecionar apenas os itens filtrados do segundo dataset\n",
        "df_results_filtered = (df.join(df_variables_filtered, df.index == df_variables_filtered.df_index, 'inner')\n",
        "                .select(df.saldo_liquido, df.Payoff, df_variables_filtered.RSI_enable))\n",
        "df_results_filtered.show()"
      ],
      "metadata": {
        "colab": {
          "base_uri": "https://localhost:8080/"
        },
        "id": "m0b-QkBgygll",
        "outputId": "dc5c7bfb-7ef9-407a-edfe-f28b18520777"
      },
      "execution_count": 21,
      "outputs": [
        {
          "output_type": "stream",
          "name": "stdout",
          "text": [
            "+-------------+------+----------+\n",
            "|saldo_liquido|Payoff|RSI_enable|\n",
            "+-------------+------+----------+\n",
            "|       834.08|  1.32|         1|\n",
            "|      1654.08|  1.76|         1|\n",
            "|      1499.08|  1.65|         1|\n",
            "|       739.08|  1.23|         1|\n",
            "|      1469.08|  1.51|         1|\n",
            "|      1319.08|  1.43|         1|\n",
            "|       264.08|  1.08|         1|\n",
            "|       819.08|  1.27|         1|\n",
            "|       669.08|  1.21|         1|\n",
            "|       754.08|  1.29|         0|\n",
            "|      1509.08|  1.66|         0|\n",
            "|      1494.08|  1.64|         0|\n",
            "|       624.08|   1.2|         0|\n",
            "|      1174.08|  1.39|         0|\n",
            "|      1124.08|  1.36|         0|\n",
            "|       114.08|  1.04|         0|\n",
            "|       519.08|  1.17|         0|\n",
            "|       469.08|  1.15|         0|\n",
            "|       834.08|  1.32|         1|\n",
            "|      1654.08|  1.76|         1|\n",
            "+-------------+------+----------+\n",
            "only showing top 20 rows\n",
            "\n"
          ]
        }
      ]
    },
    {
      "cell_type": "code",
      "source": [
        "df_results_filtered.createOrReplaceTempView('results_filtered_table')\n",
        "spark.sql('SELECT count(*) as filtered_rows_count FROM results_filtered_table').show()"
      ],
      "metadata": {
        "colab": {
          "base_uri": "https://localhost:8080/"
        },
        "id": "bPMWpy3T1SR-",
        "outputId": "4ca51d75-b796-4505-bd65-b3120a143a57"
      },
      "execution_count": 22,
      "outputs": [
        {
          "output_type": "stream",
          "name": "stdout",
          "text": [
            "+-------------------+\n",
            "|filtered_rows_count|\n",
            "+-------------------+\n",
            "|               1620|\n",
            "+-------------------+\n",
            "\n"
          ]
        }
      ]
    },
    {
      "cell_type": "code",
      "source": [
        "spark.sql('SELECT * FROM results_filtered_table ORDER BY Payoff desc').show()"
      ],
      "metadata": {
        "colab": {
          "base_uri": "https://localhost:8080/"
        },
        "id": "Emc3F2mO5XBX",
        "outputId": "4d3de8d1-aa7b-4da2-8aa6-9be184424af1"
      },
      "execution_count": 23,
      "outputs": [
        {
          "output_type": "stream",
          "name": "stdout",
          "text": [
            "+-------------+------+----------+\n",
            "|saldo_liquido|Payoff|RSI_enable|\n",
            "+-------------+------+----------+\n",
            "|       1909.2|  2.05|         1|\n",
            "|       1954.2|  2.03|         1|\n",
            "|       1939.2|  2.03|         1|\n",
            "|      1771.44|  2.01|         1|\n",
            "|       1864.2|  1.98|         1|\n",
            "|      1753.78|  1.96|         1|\n",
            "|      1821.44|  1.96|         1|\n",
            "|      1813.78|  1.94|         1|\n",
            "|      1801.44|  1.94|         1|\n",
            "|      1793.78|  1.93|         1|\n",
            "|       1584.2|  1.92|         1|\n",
            "|      1846.54|   1.9|         1|\n",
            "|      2154.08|  1.87|         1|\n",
            "|      1981.96|  1.87|         1|\n",
            "|      2154.08|  1.87|         1|\n",
            "|      1768.88|  1.85|         1|\n",
            "|      2169.08|  1.85|         1|\n",
            "|      2169.08|  1.85|         0|\n",
            "|      2169.08|  1.85|         1|\n",
            "|      2169.08|  1.85|         1|\n",
            "+-------------+------+----------+\n",
            "only showing top 20 rows\n",
            "\n"
          ]
        }
      ]
    }
  ]
}